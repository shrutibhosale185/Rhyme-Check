{
  "nbformat": 4,
  "nbformat_minor": 0,
  "metadata": {
    "colab": {
      "provenance": [],
      "authorship_tag": "ABX9TyNCv+zE4c2aTZQLZLQ01Fuq",
      "include_colab_link": true
    },
    "kernelspec": {
      "name": "python3",
      "display_name": "Python 3"
    },
    "language_info": {
      "name": "python"
    }
  },
  "cells": [
    {
      "cell_type": "markdown",
      "metadata": {
        "id": "view-in-github",
        "colab_type": "text"
      },
      "source": [
        "<a href=\"https://colab.research.google.com/github/shrutibhosale185/Rhyme-Check/blob/main/Parenthesis_check.ipynb\" target=\"_parent\"><img src=\"https://colab.research.google.com/assets/colab-badge.svg\" alt=\"Open In Colab\"/></a>"
      ]
    },
    {
      "cell_type": "code",
      "execution_count": 3,
      "metadata": {
        "colab": {
          "base_uri": "https://localhost:8080/"
        },
        "id": "q9t62enF5Yt3",
        "outputId": "1d225ef7-cd82-400e-efd3-1a1645bace84"
      },
      "outputs": [
        {
          "output_type": "stream",
          "name": "stdout",
          "text": [
            "True\n"
          ]
        },
        {
          "output_type": "execute_result",
          "data": {
            "text/plain": [
              "False"
            ]
          },
          "metadata": {},
          "execution_count": 3
        }
      ],
      "source": [
        "def isValid(test_str):\n",
        "  if len(test_str)%2 != 0:\n",
        "    return False\n",
        "  # initialize parentheses dict\n",
        "  par_dict = {'(':')','{':'}','[':']'}\n",
        "  stack = []\n",
        "  for char in test_str:\n",
        "    # push opening bracket to stack\n",
        "    if char in par_dict.keys():\n",
        "      stack.append(char)\n",
        "    else:\n",
        "      # closing bracket without matching opening bracket\n",
        "      if stack == []:\n",
        "          return False\n",
        "      # if closing bracket -> pop stack top\n",
        "      open_brac = stack.pop()\n",
        "      # not matching bracket -> invalid!\n",
        "      if char != par_dict[open_brac]:\n",
        "        return False\n",
        "  return stack == []\n",
        "print(isValid('{}[]()'))\n",
        "print(isValid('({[]})'))\n",
        "isValid('){}(')"
      ]
    }
  ]
}