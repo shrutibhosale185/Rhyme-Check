{
  "nbformat": 4,
  "nbformat_minor": 0,
  "metadata": {
    "colab": {
      "provenance": [],
      "authorship_tag": "ABX9TyNuS6Ts+vqmD4I9+0LLNX4H",
      "include_colab_link": true
    },
    "kernelspec": {
      "name": "python3",
      "display_name": "Python 3"
    },
    "language_info": {
      "name": "python"
    }
  },
  "cells": [
    {
      "cell_type": "markdown",
      "metadata": {
        "id": "view-in-github",
        "colab_type": "text"
      },
      "source": [
        "<a href=\"https://colab.research.google.com/github/shrutibhosale185/Rhyme-Check/blob/main/Rhyme_Check.ipynb\" target=\"_parent\"><img src=\"https://colab.research.google.com/assets/colab-badge.svg\" alt=\"Open In Colab\"/></a>"
      ]
    },
    {
      "cell_type": "code",
      "source": [
        "def rhyme(word,list_of_words):\n",
        "  rhyme_dict={}                   # creating a blank dict to store the rhyming words\n",
        "  for rhyme_word in list_of_words:             # getting single value from list while looping through it\n",
        "    for index in range(len(word)-1):           # traversing through the length of word \n",
        "      if word[index:] in rhyme_word:           # checking if the substring exists in the rhyme_word \n",
        "        rhyme_dict[rhyme_word]=index           # adding the rhyming word as the key and the index as value\n",
        "        break\n",
        "  # get the minimum value from the list as that word is the most rhyming word to the given input\n",
        "  rhymee=[key for key,value in rhyme_dict.items() if value==min(rhyme_dict.values())] # getting the minimum value from the dict and appending the key values to list\n",
        "  if rhymee:                   # if there are any rhyming words in the list return the list\n",
        "    return rhymee\n",
        "  else:                           # if no word rhymes return None\n",
        "    return None\n",
        "\n",
        "\n",
        "\n",
        "if __name__ == \"__main__\":\n",
        "  l=['computing','polluting','diluting','commuting','Fish','make','fake','bough','recruting','drooping','bicycle']\n",
        "  word=input().strip()\n",
        "  print(rhyme(word,l))"
      ],
      "metadata": {
        "colab": {
          "base_uri": "https://localhost:8080/"
        },
        "id": "h2WpYC9_lQWd",
        "outputId": "86b71ed7-ec2d-4b69-9cc1-05fea8eec98c"
      },
      "execution_count": null,
      "outputs": [
        {
          "output_type": "stream",
          "name": "stdout",
          "text": [
            "drake\n",
            "['make', 'fake']\n"
          ]
        }
      ]
    },
    {
      "cell_type": "code",
      "source": [
        "assert rhyme('shooting',l) == ['computing', 'polluting', 'diluting', 'commuting', 'recruting'],'Should be None'\n",
        "assert rhyme('disputing',l) == ['computing'],'Should be computing'\n",
        "assert rhyme('cake',l)==['make', 'fake']\n",
        "assert rhyme('wish',l)==['Fish']\n",
        "assert rhyme('cough',l)==['bough']\n",
        "assert rhyme('icicle',l)==['bicycle']"
      ],
      "metadata": {
        "id": "pZH81NcS2of8"
      },
      "execution_count": null,
      "outputs": []
    }
  ]
}